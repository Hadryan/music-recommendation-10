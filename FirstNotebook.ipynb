{
  "nbformat": 4,
  "nbformat_minor": 0,
  "metadata": {
    "colab": {
      "name": "Untitled",
      "provenance": [],
      "toc_visible": true,
      "include_colab_link": true
    },
    "kernelspec": {
      "name": "python3",
      "display_name": "Python 3"
    },
    "language_info": {
      "name": "python"
    }
  },
  "cells": [
    {
      "cell_type": "markdown",
      "metadata": {
        "id": "view-in-github",
        "colab_type": "text"
      },
      "source": [
        "<a href=\"https://colab.research.google.com/github/Muskaan06/music-recommendation/blob/main/FirstNotebook.ipynb\" target=\"_parent\"><img src=\"https://colab.research.google.com/assets/colab-badge.svg\" alt=\"Open In Colab\"/></a>"
      ]
    },
    {
      "cell_type": "code",
      "metadata": {
        "id": "KGVNs5qVnSoP",
        "colab": {
          "base_uri": "https://localhost:8080/"
        },
        "outputId": "55c5e228-4c99-4a78-a0da-bc0e3577e581"
      },
      "source": [
        "import numpy as np\n",
        "import tensorflow as tf\n",
        "# pravin was here again\n",
        "print('Muskaan Maurya is testing')\n",
        "arr = np.array([1,2,3,4,5])\n",
        "\n",
        "print('testing')\n",
        "print('amisha')\n",
        "print('hi')\n",
        "print('pravin was here for the third time')\n",
        "print('hi again')\n",
        "print(arr)\n",
        "print('bye bye')\n",
        "\n"
      ],
      "execution_count": 5,
      "outputs": [
        {
          "output_type": "stream",
          "text": [
            "Muskaan Maurya is testing\n",
            "testing\n",
            "amisha\n",
            "hi\n",
            "pravin was here for the third time\n",
            "hi again\n",
            "[1 2 3 4 5]\n",
            "bye bye\n"
          ],
          "name": "stdout"
        }
      ]
    }
  ]
}