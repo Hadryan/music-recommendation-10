{
  "nbformat": 4,
  "nbformat_minor": 0,
  "metadata": {
    "colab": {
      "name": "Untitled",
      "provenance": [],
      "authorship_tag": "ABX9TyNcrPz+DlaklDW/4+OfaV7p",
      "include_colab_link": true
    },
    "kernelspec": {
      "name": "python3",
      "display_name": "Python 3"
    },
    "language_info": {
      "name": "python"
    }
  },
  "cells": [
    {
      "cell_type": "markdown",
      "metadata": {
        "id": "view-in-github",
        "colab_type": "text"
      },
      "source": [
        "<a href=\"https://colab.research.google.com/github/Muskaan06/music-recommendation/blob/main/FirstNotebook.ipynb\" target=\"_parent\"><img src=\"https://colab.research.google.com/assets/colab-badge.svg\" alt=\"Open In Colab\"/></a>"
      ]
    },
    {
      "cell_type": "code",
      "metadata": {
        "colab": {
          "base_uri": "https://localhost:8080/"
        },
        "id": "KGVNs5qVnSoP",
        "outputId": "4a97e0a1-d357-4d2e-9801-98322cc38eea"
      },
      "source": [
        "import numpy as np\n",
        "import tensorflow as tf\n",
        "# pravin was here again\n",
        "print('Muskaan Maurya testing for final time')\n",
        "arr = np.array([1,2,3,4,5])\n",
        "\n",
        "print('testing')\n",
        "print('amisha')\n",
        "print('hi')\n",
        "print('pravin was here for the third time')\n",
        "print('hi again')\n",
        "print(arr)\n"
      ],
      "execution_count": 3,
      "outputs": [
        {
          "output_type": "stream",
          "text": [
            "Muskaan Maurya testing for final time\n",
            "testing\n",
            "amisha\n",
            "hi\n",
            "pravin was here for the third time\n",
            "hi again\n",
            "[1 2 3 4 5]\n"
          ],
          "name": "stdout"
        }
      ]
    }
  ]
}