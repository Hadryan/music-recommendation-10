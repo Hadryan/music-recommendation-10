{
  "nbformat": 4,
  "nbformat_minor": 0,
  "metadata": {
    "colab": {
      "name": "Untitled0.ipynb",
      "provenance": [],
      "authorship_tag": "ABX9TyMN9av958Cwt2jLLU+hW4Is",
      "include_colab_link": true
    },
    "kernelspec": {
      "name": "python3",
      "display_name": "Python 3"
    },
    "language_info": {
      "name": "python"
    }
  },
  "cells": [
    {
      "cell_type": "markdown",
      "metadata": {
        "id": "view-in-github",
        "colab_type": "text"
      },
      "source": [
        "<a href=\"https://colab.research.google.com/github/amisha-jodhani/music-recommendation/blob/main/Untitled0.ipynb\" target=\"_parent\"><img src=\"https://colab.research.google.com/assets/colab-badge.svg\" alt=\"Open In Colab\"/></a>"
      ]
    },
    {
      "cell_type": "code",
      "metadata": {
        "colab": {
          "base_uri": "https://localhost:8080/"
        },
        "id": "ImH0Va7jHGVY",
        "outputId": "441ca948-472d-4d22-e72c-b67ffa8b2e3f"
      },
      "source": [
        "!git clone https://github.com/amisha-jodhani/music-recommendation.git"
      ],
      "execution_count": 5,
      "outputs": [
        {
          "output_type": "stream",
          "text": [
            "Cloning into 'music-recommendation'...\n",
            "remote: Enumerating objects: 15, done.\u001b[K\n",
            "remote: Counting objects: 100% (15/15), done.\u001b[K\n",
            "remote: Compressing objects: 100% (12/12), done.\u001b[K\n",
            "remote: Total 15 (delta 2), reused 4 (delta 1), pack-reused 0\u001b[K\n",
            "Unpacking objects: 100% (15/15), done.\n"
          ],
          "name": "stdout"
        }
      ]
    },
    {
      "cell_type": "code",
      "metadata": {
        "id": "zB1bLAaNI5MZ"
      },
      "source": [
        "%pycat /content/music-recommendation/test.py"
      ],
      "execution_count": 13,
      "outputs": []
    },
    {
      "cell_type": "code",
      "metadata": {
        "colab": {
          "base_uri": "https://localhost:8080/"
        },
        "id": "Rz90ytlRKhSn",
        "outputId": "6e8a6c53-e504-4269-b209-1900a8a5f150"
      },
      "source": [
        "%%writefile /content/music-recommendation/test.py\n",
        "import numpy as np\n",
        "import tensorflow as tf\n",
        "#pravin was here\n",
        "print(\"hi from muskaan's macbook\")\n",
        "arr = np.array([1,2,3,4,5])\n",
        "\n",
        "print('testing')\n"
      ],
      "execution_count": 15,
      "outputs": [
        {
          "output_type": "stream",
          "text": [
            "Overwriting /content/music-recommendation/test.py\n"
          ],
          "name": "stdout"
        }
      ]
    },
    {
      "cell_type": "code",
      "metadata": {
        "colab": {
          "base_uri": "https://localhost:8080/"
        },
        "id": "dm5AGOYSK4Am",
        "outputId": "d92ded8b-5585-478e-8144-ad00ae79d8ab"
      },
      "source": [
        "%run /content/music-recommendation/test.py"
      ],
      "execution_count": 19,
      "outputs": [
        {
          "output_type": "stream",
          "text": [
            "hi from muskaan's macbook\n",
            "testing\n"
          ],
          "name": "stdout"
        }
      ]
    },
    {
      "cell_type": "code",
      "metadata": {
        "id": "DhvwzpuINrfJ"
      },
      "source": [
        ""
      ],
      "execution_count": null,
      "outputs": []
    }
  ]
}